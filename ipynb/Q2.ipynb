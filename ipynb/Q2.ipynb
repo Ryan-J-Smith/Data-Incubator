{
 "cells": [
  {
   "cell_type": "markdown",
   "metadata": {},
   "source": [
    "# Questions\n",
    "\n",
    "1. What fraction of payments under \\$5 use a credit card?\n",
    "1. What fraction of payments over \\$50 use a credit card?\n",
    "1. What is the mean fare per minute driven?\n",
    "1. What is the median of the taxi's fare per mile driven?\n",
    "1. What is the average ratio of the distance between the pickup and dropoff divided by the distance driven?\n",
    "1. What is the 95 percentile of the taxi's average driving speed in miles per hour?\n",
    "1. What is the average tip for rides from JFK?\n",
    "1. What is the median March revenue of a taxi driver?"
   ]
  },
  {
   "cell_type": "markdown",
   "metadata": {},
   "source": [
    "## Load both datasets, drop unnecessary columns, join"
   ]
  },
  {
   "cell_type": "code",
   "execution_count": 1,
   "metadata": {
    "collapsed": false
   },
   "outputs": [
    {
     "name": "stderr",
     "output_type": "stream",
     "text": [
      "C:\\Anaconda\\lib\\site-packages\\pandas\\io\\parsers.py:1159: DtypeWarning: Columns (4) have mixed types. Specify dtype option on import or set low_memory=False.\n",
      "  data = self._reader.read(nrows)\n"
     ]
    }
   ],
   "source": [
    "import pandas as pd\n",
    "import numpy as np\n",
    "\n",
    "fareFile = \"trip_fare_3.csv\"\n",
    "df1 = pd.read_csv(fareFile, header=0, engine='c')\n",
    "\n",
    "columnNames = df1.columns.values\n",
    "df1 = df1.drop(columnNames[[0, 2, 6, 7, 9]],axis=1)\n",
    "\n",
    "dataFile = \"trip_data_3.csv\"\n",
    "df2 = pd.read_csv(dataFile, header=0, engine='c')\n",
    "\n",
    "columnNames = df2.columns.values\n",
    "df2 = df2.drop(columnNames[[0, 2, 3, 4, 7]],axis=1)\n",
    "\n",
    "df = pd.merge(df1,df2, how = 'inner')\n",
    "del df1; del df2;"
   ]
  },
  {
   "cell_type": "code",
   "execution_count": 2,
   "metadata": {
    "collapsed": false
   },
   "outputs": [
    {
     "data": {
      "text/html": [
       "<div style=\"max-height:1000px;max-width:1500px;overflow:auto;\">\n",
       "<table border=\"1\" class=\"dataframe\">\n",
       "  <thead>\n",
       "    <tr style=\"text-align: right;\">\n",
       "      <th></th>\n",
       "      <th>hack_license</th>\n",
       "      <th>pickup_datetime</th>\n",
       "      <th>payment_type</th>\n",
       "      <th>fare_amount</th>\n",
       "      <th>tip_amount</th>\n",
       "      <th>total_amount</th>\n",
       "      <th>dropoff_datetime</th>\n",
       "      <th>trip_time_in_secs</th>\n",
       "      <th>trip_distance</th>\n",
       "      <th>pickup_longitude</th>\n",
       "      <th>pickup_latitude</th>\n",
       "      <th>dropoff_longitude</th>\n",
       "      <th>dropoff_latitude</th>\n",
       "    </tr>\n",
       "  </thead>\n",
       "  <tbody>\n",
       "    <tr>\n",
       "      <th>0</th>\n",
       "      <td> 2C78614ADC9C602EC70D65CCB4E63B14</td>\n",
       "      <td> 2013-03-01 00:00:04</td>\n",
       "      <td> CRD</td>\n",
       "      <td> 39.5</td>\n",
       "      <td> 10.10</td>\n",
       "      <td> 50.60</td>\n",
       "      <td> 2013-03-01 00:19:03</td>\n",
       "      <td> 1138</td>\n",
       "      <td> 14.3</td>\n",
       "      <td>-73.776703</td>\n",
       "      <td> 40.645164</td>\n",
       "      <td>-73.913925</td>\n",
       "      <td> 40.772614</td>\n",
       "    </tr>\n",
       "    <tr>\n",
       "      <th>1</th>\n",
       "      <td> 08BF18740B38D64720C9E060429A3968</td>\n",
       "      <td> 2013-03-01 00:00:18</td>\n",
       "      <td> CRD</td>\n",
       "      <td> 13.0</td>\n",
       "      <td>  2.10</td>\n",
       "      <td> 16.10</td>\n",
       "      <td> 2013-03-01 00:12:11</td>\n",
       "      <td>  712</td>\n",
       "      <td>  3.3</td>\n",
       "      <td>-73.987343</td>\n",
       "      <td> 40.752056</td>\n",
       "      <td>-73.965340</td>\n",
       "      <td> 40.792721</td>\n",
       "    </tr>\n",
       "    <tr>\n",
       "      <th>2</th>\n",
       "      <td> F3310C8DA3DB753DDB5800F32D3CB8E3</td>\n",
       "      <td> 2013-03-01 00:00:18</td>\n",
       "      <td> CRD</td>\n",
       "      <td> 15.0</td>\n",
       "      <td>  3.20</td>\n",
       "      <td> 19.20</td>\n",
       "      <td> 2013-03-01 00:14:24</td>\n",
       "      <td>  845</td>\n",
       "      <td>  4.5</td>\n",
       "      <td>-73.991493</td>\n",
       "      <td> 40.726444</td>\n",
       "      <td>-73.980865</td>\n",
       "      <td> 40.778370</td>\n",
       "    </tr>\n",
       "    <tr>\n",
       "      <th>3</th>\n",
       "      <td> DF142C5256392C3CDA67C7DFFA5B88E2</td>\n",
       "      <td> 2013-03-01 00:00:23</td>\n",
       "      <td> CRD</td>\n",
       "      <td> 25.5</td>\n",
       "      <td>  6.26</td>\n",
       "      <td> 37.56</td>\n",
       "      <td> 2013-03-01 00:14:56</td>\n",
       "      <td>  872</td>\n",
       "      <td>  9.0</td>\n",
       "      <td>-73.873108</td>\n",
       "      <td> 40.774094</td>\n",
       "      <td>-73.960930</td>\n",
       "      <td> 40.769535</td>\n",
       "    </tr>\n",
       "    <tr>\n",
       "      <th>4</th>\n",
       "      <td> 10D2E58D75E07D6B5AAFA329BF5A4CAC</td>\n",
       "      <td> 2013-03-01 00:00:35</td>\n",
       "      <td> CRD</td>\n",
       "      <td>  6.5</td>\n",
       "      <td>  1.00</td>\n",
       "      <td>  8.50</td>\n",
       "      <td> 2013-03-01 00:05:44</td>\n",
       "      <td>  308</td>\n",
       "      <td>  1.3</td>\n",
       "      <td>-73.990562</td>\n",
       "      <td> 40.750927</td>\n",
       "      <td>-73.982880</td>\n",
       "      <td> 40.739132</td>\n",
       "    </tr>\n",
       "  </tbody>\n",
       "</table>\n",
       "</div>"
      ],
      "text/plain": [
       "                       hack_license      pickup_datetime payment_type  \\\n",
       "0  2C78614ADC9C602EC70D65CCB4E63B14  2013-03-01 00:00:04          CRD   \n",
       "1  08BF18740B38D64720C9E060429A3968  2013-03-01 00:00:18          CRD   \n",
       "2  F3310C8DA3DB753DDB5800F32D3CB8E3  2013-03-01 00:00:18          CRD   \n",
       "3  DF142C5256392C3CDA67C7DFFA5B88E2  2013-03-01 00:00:23          CRD   \n",
       "4  10D2E58D75E07D6B5AAFA329BF5A4CAC  2013-03-01 00:00:35          CRD   \n",
       "\n",
       "   fare_amount  tip_amount  total_amount     dropoff_datetime  \\\n",
       "0         39.5       10.10         50.60  2013-03-01 00:19:03   \n",
       "1         13.0        2.10         16.10  2013-03-01 00:12:11   \n",
       "2         15.0        3.20         19.20  2013-03-01 00:14:24   \n",
       "3         25.5        6.26         37.56  2013-03-01 00:14:56   \n",
       "4          6.5        1.00          8.50  2013-03-01 00:05:44   \n",
       "\n",
       "   trip_time_in_secs  trip_distance  pickup_longitude  pickup_latitude  \\\n",
       "0               1138           14.3        -73.776703        40.645164   \n",
       "1                712            3.3        -73.987343        40.752056   \n",
       "2                845            4.5        -73.991493        40.726444   \n",
       "3                872            9.0        -73.873108        40.774094   \n",
       "4                308            1.3        -73.990562        40.750927   \n",
       "\n",
       "   dropoff_longitude  dropoff_latitude  \n",
       "0         -73.913925         40.772614  \n",
       "1         -73.965340         40.792721  \n",
       "2         -73.980865         40.778370  \n",
       "3         -73.960930         40.769535  \n",
       "4         -73.982880         40.739132  "
      ]
     },
     "execution_count": 2,
     "metadata": {},
     "output_type": "execute_result"
    }
   ],
   "source": [
    "# Strip spaces from row headers\n",
    "df = df.rename(columns=lambda x: x.strip())\n",
    "df.head()"
   ]
  },
  {
   "cell_type": "code",
   "execution_count": 3,
   "metadata": {
    "collapsed": false,
    "scrolled": true
   },
   "outputs": [
    {
     "data": {
      "text/html": [
       "<div style=\"max-height:1000px;max-width:1500px;overflow:auto;\">\n",
       "<table border=\"1\" class=\"dataframe\">\n",
       "  <thead>\n",
       "    <tr style=\"text-align: right;\">\n",
       "      <th></th>\n",
       "      <th>fare_amount</th>\n",
       "      <th>tip_amount</th>\n",
       "      <th>total_amount</th>\n",
       "      <th>trip_time_in_secs</th>\n",
       "      <th>trip_distance</th>\n",
       "      <th>pickup_longitude</th>\n",
       "      <th>pickup_latitude</th>\n",
       "      <th>dropoff_longitude</th>\n",
       "      <th>dropoff_latitude</th>\n",
       "    </tr>\n",
       "  </thead>\n",
       "  <tbody>\n",
       "    <tr>\n",
       "      <th>count</th>\n",
       "      <td> 15749492.000000</td>\n",
       "      <td> 15749492.000000</td>\n",
       "      <td> 15749492.000000</td>\n",
       "      <td> 15749492.000000</td>\n",
       "      <td> 15749492.000000</td>\n",
       "      <td> 15749492.000000</td>\n",
       "      <td> 15749492.000000</td>\n",
       "      <td> 15749199.000000</td>\n",
       "      <td> 15749199.000000</td>\n",
       "    </tr>\n",
       "    <tr>\n",
       "      <th>mean</th>\n",
       "      <td>       12.035129</td>\n",
       "      <td>        1.307660</td>\n",
       "      <td>       14.395482</td>\n",
       "      <td>      717.443336</td>\n",
       "      <td>        2.841457</td>\n",
       "      <td>      -72.676494</td>\n",
       "      <td>       40.036586</td>\n",
       "      <td>      -72.635172</td>\n",
       "      <td>       40.014959</td>\n",
       "    </tr>\n",
       "    <tr>\n",
       "      <th>std</th>\n",
       "      <td>        9.816440</td>\n",
       "      <td>        2.101171</td>\n",
       "      <td>       11.751894</td>\n",
       "      <td>      521.272755</td>\n",
       "      <td>        3.316191</td>\n",
       "      <td>       10.033677</td>\n",
       "      <td>        6.941685</td>\n",
       "      <td>       10.069558</td>\n",
       "      <td>        7.123386</td>\n",
       "    </tr>\n",
       "    <tr>\n",
       "      <th>min</th>\n",
       "      <td>        2.500000</td>\n",
       "      <td>        0.000000</td>\n",
       "      <td>        2.500000</td>\n",
       "      <td>        0.000000</td>\n",
       "      <td>        0.000000</td>\n",
       "      <td>    -2316.636500</td>\n",
       "      <td>    -3124.489700</td>\n",
       "      <td>    -2491.220000</td>\n",
       "      <td>    -3547.897200</td>\n",
       "    </tr>\n",
       "    <tr>\n",
       "      <th>25%</th>\n",
       "      <td>        6.500000</td>\n",
       "      <td>        0.000000</td>\n",
       "      <td>        8.000000</td>\n",
       "      <td>      360.000000</td>\n",
       "      <td>        1.020000</td>\n",
       "      <td>      -73.992188</td>\n",
       "      <td>       40.734612</td>\n",
       "      <td>      -73.991486</td>\n",
       "      <td>       40.733704</td>\n",
       "    </tr>\n",
       "    <tr>\n",
       "      <th>50%</th>\n",
       "      <td>        9.000000</td>\n",
       "      <td>        0.900000</td>\n",
       "      <td>       11.000000</td>\n",
       "      <td>      600.000000</td>\n",
       "      <td>        1.760000</td>\n",
       "      <td>      -73.982002</td>\n",
       "      <td>       40.752274</td>\n",
       "      <td>      -73.980499</td>\n",
       "      <td>       40.752590</td>\n",
       "    </tr>\n",
       "    <tr>\n",
       "      <th>75%</th>\n",
       "      <td>       13.500000</td>\n",
       "      <td>        2.000000</td>\n",
       "      <td>       16.000000</td>\n",
       "      <td>      921.000000</td>\n",
       "      <td>        3.180000</td>\n",
       "      <td>      -73.967209</td>\n",
       "      <td>       40.766754</td>\n",
       "      <td>      -73.964027</td>\n",
       "      <td>       40.767635</td>\n",
       "    </tr>\n",
       "    <tr>\n",
       "      <th>max</th>\n",
       "      <td>      500.000000</td>\n",
       "      <td>      200.000000</td>\n",
       "      <td>      529.800000</td>\n",
       "      <td>    10800.000000</td>\n",
       "      <td>      100.000000</td>\n",
       "      <td>     2945.958700</td>\n",
       "      <td>     3210.385500</td>\n",
       "      <td>     1347.443700</td>\n",
       "      <td>     3453.317400</td>\n",
       "    </tr>\n",
       "  </tbody>\n",
       "</table>\n",
       "</div>"
      ],
      "text/plain": [
       "           fare_amount       tip_amount     total_amount  trip_time_in_secs  \\\n",
       "count  15749492.000000  15749492.000000  15749492.000000    15749492.000000   \n",
       "mean         12.035129         1.307660        14.395482         717.443336   \n",
       "std           9.816440         2.101171        11.751894         521.272755   \n",
       "min           2.500000         0.000000         2.500000           0.000000   \n",
       "25%           6.500000         0.000000         8.000000         360.000000   \n",
       "50%           9.000000         0.900000        11.000000         600.000000   \n",
       "75%          13.500000         2.000000        16.000000         921.000000   \n",
       "max         500.000000       200.000000       529.800000       10800.000000   \n",
       "\n",
       "         trip_distance  pickup_longitude  pickup_latitude  dropoff_longitude  \\\n",
       "count  15749492.000000   15749492.000000  15749492.000000    15749199.000000   \n",
       "mean          2.841457        -72.676494        40.036586         -72.635172   \n",
       "std           3.316191         10.033677         6.941685          10.069558   \n",
       "min           0.000000      -2316.636500     -3124.489700       -2491.220000   \n",
       "25%           1.020000        -73.992188        40.734612         -73.991486   \n",
       "50%           1.760000        -73.982002        40.752274         -73.980499   \n",
       "75%           3.180000        -73.967209        40.766754         -73.964027   \n",
       "max         100.000000       2945.958700      3210.385500        1347.443700   \n",
       "\n",
       "       dropoff_latitude  \n",
       "count   15749199.000000  \n",
       "mean          40.014959  \n",
       "std            7.123386  \n",
       "min        -3547.897200  \n",
       "25%           40.733704  \n",
       "50%           40.752590  \n",
       "75%           40.767635  \n",
       "max         3453.317400  "
      ]
     },
     "execution_count": 3,
     "metadata": {},
     "output_type": "execute_result"
    }
   ],
   "source": [
    "df.describe()"
   ]
  },
  {
   "cell_type": "markdown",
   "metadata": {},
   "source": [
    "### Clean data"
   ]
  },
  {
   "cell_type": "code",
   "execution_count": 4,
   "metadata": {
    "collapsed": false
   },
   "outputs": [],
   "source": [
    "latMax = 41.0; latMin = 40.0;\n",
    "lonMax = -73.5; lonMin = -74.5;\n",
    "timeMax = 3600.0; timeMin = 0.0;\n",
    "totalFareMax = 300.0; totalFareMin = 0.0; # Trips must be longer than 0 seconds\n",
    "tripDistMax = 60.0; tripDistMin = 0.0; # Unlikely anyone went further than 60 miles\n",
    "\n",
    "# Identify erroneous latitude values\n",
    "df = df[(df['pickup_latitude'] <= latMax) & (df['pickup_latitude'] >= latMin)]\n",
    "df = df[(df['dropoff_latitude'] <= latMax) & (df['dropoff_latitude'] >= latMin)]\n",
    "\n",
    "# Identify erroneous longitude values\n",
    "df = df[(df['pickup_longitude'] <= lonMax) & (df['pickup_longitude'] >= lonMin)]\n",
    "df = df[(df['dropoff_longitude'] <= lonMax) & (df['dropoff_longitude'] >= lonMin)]\n",
    "\n",
    "# Eliminate erroneous trip times\n",
    "df = df[(df['trip_time_in_secs'] < timeMax) & (df['trip_time_in_secs'] > timeMin)]\n",
    "\n",
    "# Eliminate erroneous fare amounts\n",
    "df = df[(df['fare_amount'] < totalFareMax) & (df['fare_amount'] > totalFareMin)]\n",
    "\n",
    "# Eliminate erroneous trip distances\n",
    "df = df[(df['trip_distance'] < tripDistMax) & (df['trip_distance'] > tripDistMin)]"
   ]
  },
  {
   "cell_type": "code",
   "execution_count": 5,
   "metadata": {
    "collapsed": false
   },
   "outputs": [
    {
     "data": {
      "text/html": [
       "<div style=\"max-height:1000px;max-width:1500px;overflow:auto;\">\n",
       "<table border=\"1\" class=\"dataframe\">\n",
       "  <thead>\n",
       "    <tr style=\"text-align: right;\">\n",
       "      <th></th>\n",
       "      <th>fare_amount</th>\n",
       "      <th>tip_amount</th>\n",
       "      <th>total_amount</th>\n",
       "      <th>trip_time_in_secs</th>\n",
       "      <th>trip_distance</th>\n",
       "      <th>pickup_longitude</th>\n",
       "      <th>pickup_latitude</th>\n",
       "      <th>dropoff_longitude</th>\n",
       "      <th>dropoff_latitude</th>\n",
       "    </tr>\n",
       "  </thead>\n",
       "  <tbody>\n",
       "    <tr>\n",
       "      <th>count</th>\n",
       "      <td> 15354355.000000</td>\n",
       "      <td> 15354355.000000</td>\n",
       "      <td> 15354355.000000</td>\n",
       "      <td> 15354355.000000</td>\n",
       "      <td> 15354355.000000</td>\n",
       "      <td> 15354355.000000</td>\n",
       "      <td> 15354355.000000</td>\n",
       "      <td> 15354355.000000</td>\n",
       "      <td> 15354355.000000</td>\n",
       "    </tr>\n",
       "    <tr>\n",
       "      <th>mean</th>\n",
       "      <td>       11.865569</td>\n",
       "      <td>        1.289745</td>\n",
       "      <td>       14.200655</td>\n",
       "      <td>      713.167625</td>\n",
       "      <td>        2.824979</td>\n",
       "      <td>      -73.975941</td>\n",
       "      <td>       40.750735</td>\n",
       "      <td>      -73.975045</td>\n",
       "      <td>       40.751039</td>\n",
       "    </tr>\n",
       "    <tr>\n",
       "      <th>std</th>\n",
       "      <td>        9.149321</td>\n",
       "      <td>        2.002305</td>\n",
       "      <td>       11.038322</td>\n",
       "      <td>      492.793023</td>\n",
       "      <td>        3.212001</td>\n",
       "      <td>        0.033431</td>\n",
       "      <td>        0.026801</td>\n",
       "      <td>        0.033053</td>\n",
       "      <td>        0.030573</td>\n",
       "    </tr>\n",
       "    <tr>\n",
       "      <th>min</th>\n",
       "      <td>        2.500000</td>\n",
       "      <td>        0.000000</td>\n",
       "      <td>        2.500000</td>\n",
       "      <td>        1.000000</td>\n",
       "      <td>        0.010000</td>\n",
       "      <td>      -74.500000</td>\n",
       "      <td>       40.000000</td>\n",
       "      <td>      -74.500000</td>\n",
       "      <td>       40.000000</td>\n",
       "    </tr>\n",
       "    <tr>\n",
       "      <th>25%</th>\n",
       "      <td>        6.500000</td>\n",
       "      <td>        0.000000</td>\n",
       "      <td>        8.000000</td>\n",
       "      <td>      360.000000</td>\n",
       "      <td>        1.040000</td>\n",
       "      <td>      -73.992386</td>\n",
       "      <td>       40.736137</td>\n",
       "      <td>      -73.991676</td>\n",
       "      <td>       40.735153</td>\n",
       "    </tr>\n",
       "    <tr>\n",
       "      <th>50%</th>\n",
       "      <td>        9.000000</td>\n",
       "      <td>        1.000000</td>\n",
       "      <td>       11.000000</td>\n",
       "      <td>      600.000000</td>\n",
       "      <td>        1.780000</td>\n",
       "      <td>      -73.982246</td>\n",
       "      <td>       40.752857</td>\n",
       "      <td>      -73.980927</td>\n",
       "      <td>       40.753239</td>\n",
       "    </tr>\n",
       "    <tr>\n",
       "      <th>75%</th>\n",
       "      <td>       13.500000</td>\n",
       "      <td>        2.000000</td>\n",
       "      <td>       16.000000</td>\n",
       "      <td>      919.000000</td>\n",
       "      <td>        3.190000</td>\n",
       "      <td>      -73.968437</td>\n",
       "      <td>       40.767181</td>\n",
       "      <td>      -73.965714</td>\n",
       "      <td>       40.768032</td>\n",
       "    </tr>\n",
       "    <tr>\n",
       "      <th>max</th>\n",
       "      <td>      285.000000</td>\n",
       "      <td>      200.000000</td>\n",
       "      <td>      373.420000</td>\n",
       "      <td>     3599.000000</td>\n",
       "      <td>       59.900000</td>\n",
       "      <td>      -73.500000</td>\n",
       "      <td>       41.000000</td>\n",
       "      <td>      -73.500000</td>\n",
       "      <td>       41.000000</td>\n",
       "    </tr>\n",
       "  </tbody>\n",
       "</table>\n",
       "</div>"
      ],
      "text/plain": [
       "           fare_amount       tip_amount     total_amount  trip_time_in_secs  \\\n",
       "count  15354355.000000  15354355.000000  15354355.000000    15354355.000000   \n",
       "mean         11.865569         1.289745        14.200655         713.167625   \n",
       "std           9.149321         2.002305        11.038322         492.793023   \n",
       "min           2.500000         0.000000         2.500000           1.000000   \n",
       "25%           6.500000         0.000000         8.000000         360.000000   \n",
       "50%           9.000000         1.000000        11.000000         600.000000   \n",
       "75%          13.500000         2.000000        16.000000         919.000000   \n",
       "max         285.000000       200.000000       373.420000        3599.000000   \n",
       "\n",
       "         trip_distance  pickup_longitude  pickup_latitude  dropoff_longitude  \\\n",
       "count  15354355.000000   15354355.000000  15354355.000000    15354355.000000   \n",
       "mean          2.824979        -73.975941        40.750735         -73.975045   \n",
       "std           3.212001          0.033431         0.026801           0.033053   \n",
       "min           0.010000        -74.500000        40.000000         -74.500000   \n",
       "25%           1.040000        -73.992386        40.736137         -73.991676   \n",
       "50%           1.780000        -73.982246        40.752857         -73.980927   \n",
       "75%           3.190000        -73.968437        40.767181         -73.965714   \n",
       "max          59.900000        -73.500000        41.000000         -73.500000   \n",
       "\n",
       "       dropoff_latitude  \n",
       "count   15354355.000000  \n",
       "mean          40.751039  \n",
       "std            0.030573  \n",
       "min           40.000000  \n",
       "25%           40.735153  \n",
       "50%           40.753239  \n",
       "75%           40.768032  \n",
       "max           41.000000  "
      ]
     },
     "execution_count": 5,
     "metadata": {},
     "output_type": "execute_result"
    }
   ],
   "source": [
    "df.describe()"
   ]
  },
  {
   "cell_type": "markdown",
   "metadata": {},
   "source": [
    "# Answering questions about fares"
   ]
  },
  {
   "cell_type": "markdown",
   "metadata": {},
   "source": [
    "## Find types of payment"
   ]
  },
  {
   "cell_type": "code",
   "execution_count": 53,
   "metadata": {
    "collapsed": false
   },
   "outputs": [
    {
     "name": "stdout",
     "output_type": "stream",
     "text": [
      "['CRD' 'CSH' 'UNK' 'NOC' 'DIS']\n"
     ]
    }
   ],
   "source": [
    "paymentTypes = df['payment_type'].unique()\n",
    "print paymentTypes"
   ]
  },
  {
   "cell_type": "markdown",
   "metadata": {},
   "source": [
    "### What fraction of payments under $5 use a credit card?"
   ]
  },
  {
   "cell_type": "code",
   "execution_count": 6,
   "metadata": {
    "collapsed": false
   },
   "outputs": [
    {
     "name": "stdout",
     "output_type": "stream",
     "text": [
      "Fraction of payments under $5 using a credit card: 0.082926477346\n"
     ]
    }
   ],
   "source": [
    "smallFares = df[(df['total_amount'] <= 5)]\n",
    "smallFaresCnt = len(smallFares.index)\n",
    "del smallFares\n",
    "\n",
    "smallFaresWCredit = df[ (df['total_amount'] <= 5) & (df['payment_type'] == \"CRD\")]\n",
    "smallFaresWCreditCnt = len(smallFaresWCredit.index)\n",
    "del smallFaresWCredit\n",
    "\n",
    "print \"Fraction of payments under $5 using a credit card: \" + str(float(smallFaresWCreditCnt)/float(smallFaresCnt))"
   ]
  },
  {
   "cell_type": "markdown",
   "metadata": {},
   "source": [
    "### What fraction of payments over $50 use a credit card?"
   ]
  },
  {
   "cell_type": "code",
   "execution_count": 7,
   "metadata": {
    "collapsed": false
   },
   "outputs": [
    {
     "name": "stdout",
     "output_type": "stream",
     "text": [
      "Fraction of payments over $50 using a credit card: 0.688368201761\n"
     ]
    }
   ],
   "source": [
    "largeFares = df[(df['total_amount'] > 50)]\n",
    "largeFaresCnt = len(largeFares.index)\n",
    "del largeFares\n",
    "\n",
    "largeFaresWCredit = df[ (df['total_amount'] > 50) & (df['payment_type'] == \"CRD\")]\n",
    "largeFaresWCreditCnt = len(largeFaresWCredit.index)\n",
    "del largeFaresWCredit\n",
    "\n",
    "print \"Fraction of payments over $50 using a credit card: \" + str(float(largeFaresWCreditCnt)/float(largeFaresCnt))"
   ]
  },
  {
   "cell_type": "markdown",
   "metadata": {},
   "source": [
    "### What is the median March revenue of a taxi driver?"
   ]
  },
  {
   "cell_type": "code",
   "execution_count": 8,
   "metadata": {
    "collapsed": false
   },
   "outputs": [
    {
     "name": "stdout",
     "output_type": "stream",
     "text": [
      "Median total revenue for cab drivers in March: 6983.3\n",
      "Mean total revenue for cab drivers in March: 6655.12595306\n"
     ]
    }
   ],
   "source": [
    "grouped = df.groupby('hack_license').sum()\n",
    "\n",
    "myData = np.empty([1,1])\n",
    "myData = grouped['total_amount'].values\n",
    "print (\"Median total revenue for cab drivers in March: \" + str(np.median(myData)))\n",
    "print (\"Mean total revenue for cab drivers in March: \" + str(np.mean(myData)))"
   ]
  },
  {
   "cell_type": "markdown",
   "metadata": {},
   "source": [
    "### What is the mean fare per minute driven?"
   ]
  },
  {
   "cell_type": "code",
   "execution_count": 9,
   "metadata": {
    "collapsed": false
   },
   "outputs": [
    {
     "name": "stdout",
     "output_type": "stream",
     "text": [
      "Mean fare per minute driven: 1.16002035737\n",
      "Median fare per minute driven: 1.0\n"
     ]
    }
   ],
   "source": [
    "farePerMinute = np.empty([1,1])\n",
    "farePerMinute = 60.0*df['fare_amount'].values / df['trip_time_in_secs'].values\n",
    "print \"Mean fare per minute driven: \" + str(np.mean(farePerMinute))\n",
    "print \"Median fare per minute driven: \" + str(np.median(farePerMinute))"
   ]
  },
  {
   "cell_type": "markdown",
   "metadata": {},
   "source": [
    "### What is the median of the taxi's fare per mile driven?"
   ]
  },
  {
   "cell_type": "code",
   "execution_count": 10,
   "metadata": {
    "collapsed": false
   },
   "outputs": [
    {
     "name": "stdout",
     "output_type": "stream",
     "text": [
      "Mean fare per mile driven: 5.0\n",
      "Median fare per mile driven: 5.0\n"
     ]
    }
   ],
   "source": [
    "farePerMile = np.empty([1,1])\n",
    "farePerMile = df['fare_amount'].values / df['trip_distance'].values\n",
    "print \"Mean fare per mile driven: \" + str(np.median(farePerMile))\n",
    "print \"Median fare per mile driven: \" + str(np.median(farePerMile))"
   ]
  },
  {
   "cell_type": "markdown",
   "metadata": {},
   "source": [
    "# Answering questions about routes and distance"
   ]
  },
  {
   "cell_type": "markdown",
   "metadata": {},
   "source": [
    "### What is the average ratio of the distance between the pickup and dropoff divided by the distance driven?"
   ]
  },
  {
   "cell_type": "code",
   "execution_count": 11,
   "metadata": {
    "collapsed": false
   },
   "outputs": [],
   "source": [
    "from math import cos, sqrt, radians\n",
    "\n",
    "def coordsToMiles(startLat,startLon,endLat,endLon):\n",
    "    endLon = radians(endLon); startLon = radians(startLon);\n",
    "    endLat = radians(endLat); startLat = radians(startLat);\n",
    "    \n",
    "    R = 6371*0.621  # radius of the earth in miles\n",
    "    x = (endLon - startLon) * cos( 0.5*(endLat+startLat) )\n",
    "    y = endLat - startLat\n",
    "    d = R*sqrt(x**2 + y**2)    \n",
    "    return d\n",
    "\n",
    "startLat = df['pickup_latitude'].values; startLon = df['pickup_longitude'].values;\n",
    "endLat = df['dropoff_latitude'].values; endLon = df['dropoff_longitude'].values;\n",
    "\n",
    "routeDist = np.empty(len(startLat))\n",
    "\n",
    "for i in range(len(startLat)):\n",
    "    routeDist[i] = coordsToMiles(startLat[i],startLon[i],endLat[i],endLon[i])\n"
   ]
  },
  {
   "cell_type": "code",
   "execution_count": 12,
   "metadata": {
    "collapsed": false
   },
   "outputs": [
    {
     "name": "stdout",
     "output_type": "stream",
     "text": [
      "2.05344197376\n",
      "1.340803329\n",
      "57.7640205618\n",
      "0.0\n"
     ]
    }
   ],
   "source": [
    "print np.mean(routeDist)\n",
    "print np.median(routeDist)\n",
    "print np.max(routeDist)\n",
    "print np.min(routeDist)"
   ]
  },
  {
   "cell_type": "code",
   "execution_count": 13,
   "metadata": {
    "collapsed": false
   },
   "outputs": [
    {
     "name": "stdout",
     "output_type": "stream",
     "text": [
      "The mean ratio of the distance between pickup and dropoff divide by distance driven is: 0.807658475673\n"
     ]
    }
   ],
   "source": [
    "routeRatio = np.empty([1,1])\n",
    "routeRatio = np.divide(routeDist, df['trip_distance'].values)\n",
    "print \"The mean ratio of the distance between pickup and dropoff divide by distance driven is: \" + str(np.mean(routeRatio))"
   ]
  },
  {
   "cell_type": "markdown",
   "metadata": {},
   "source": [
    "### What is the 95th percentile of the taxi's average driving speed in miles per hour?"
   ]
  },
  {
   "cell_type": "code",
   "execution_count": 14,
   "metadata": {
    "collapsed": false
   },
   "outputs": [
    {
     "name": "stdout",
     "output_type": "stream",
     "text": [
      "The 95th percentile of taxis' average driving speed in mph is: 26.6\n"
     ]
    }
   ],
   "source": [
    "taxiSpeed = np.empty([1,1])\n",
    "taxiSpeed = 3600*df['trip_distance'].values/df['trip_time_in_secs']\n",
    "print \"The 95th percentile of taxis' average driving speed in mph is: \" + str(np.percentile(taxiSpeed, 95.0))"
   ]
  },
  {
   "cell_type": "markdown",
   "metadata": {},
   "source": [
    "### What is the average tip for rides from JFK?"
   ]
  },
  {
   "cell_type": "code",
   "execution_count": 15,
   "metadata": {
    "collapsed": false
   },
   "outputs": [
    {
     "name": "stdout",
     "output_type": "stream",
     "text": [
      "The average tip for rides from JFK is: 4.41857393728\n",
      "The median tip for rides from JFK is: 0.0\n"
     ]
    }
   ],
   "source": [
    "jfkLatMin = 40.626; jfkLatMax = 40.663; # Obtained from Google Maps\n",
    "jfkLonMin = -73.821; jfkLonMax =-73.758; # Obtained from Google Maps\n",
    "\n",
    "jfkTrips = df[ (df['pickup_latitude'] > jfkLatMin) & (df['pickup_latitude']<jfkLatMax) &\n",
    "              (df['pickup_longitude'] > jfkLonMin) & (df['pickup_longitude']<jfkLonMax)]\n",
    "\n",
    "jfkTips = np.empty([1,1])\n",
    "jfkTips = jfkTrips['tip_amount'].values\n",
    "print \"The average tip for rides from JFK is: \" + str(np.mean(jfkTips))\n",
    "print \"The median tip for rides from JFK is: \" + str(np.median(jfkTips))"
   ]
  },
  {
   "cell_type": "code",
   "execution_count": 95,
   "metadata": {
    "collapsed": false
   },
   "outputs": [
    {
     "name": "stdout",
     "output_type": "stream",
     "text": [
      "Populating the interactive namespace from numpy and matplotlib\n"
     ]
    },
    {
     "data": {
      "text/plain": [
       "<matplotlib.axes._subplots.AxesSubplot at 0x7cdb9a20>"
      ]
     },
     "execution_count": 95,
     "metadata": {},
     "output_type": "execute_result"
    },
    {
     "data": {
      "image/png": "[encoded data removed]",
      "text/plain": [
       "<matplotlib.figure.Figure at 0xfc9d7240>"
      ]
     },
     "metadata": {},
     "output_type": "display_data"
    }
   ],
   "source": [
    "%pylab inline\n",
    "seriesTips = pd.Series(data = jfkTips)\n",
    "seriesTips.hist(bins = 100)"
   ]
  },
  {
   "cell_type": "code",
   "execution_count": 96,
   "metadata": {
    "collapsed": false
   },
   "outputs": [
    {
     "data": {
      "text/plain": [
       "<matplotlib.axes._subplots.AxesSubplot at 0x52e595c0>"
      ]
     },
     "execution_count": 96,
     "metadata": {},
     "output_type": "execute_result"
    },
    {
     "data": {
      "image/png": "[encoded data removed]",
      "text/plain": [
       "<matplotlib.figure.Figure at 0x899884e0>"
      ]
     },
     "metadata": {},
     "output_type": "display_data"
    }
   ],
   "source": [
    "df['fare_amount'].hist(bins = 100)"
   ]
  },
  {
   "cell_type": "code",
   "execution_count": null,
   "metadata": {
    "collapsed": false
   },
   "outputs": [],
   "source": []
  }
 ],
 "metadata": {
  "kernelspec": {
   "display_name": "Python 2",
   "language": "python",
   "name": "python2"
  },
  "language_info": {
   "codemirror_mode": {
    "name": "ipython",
    "version": 2
   },
   "file_extension": ".py",
   "mimetype": "text/x-python",
   "name": "python",
   "nbconvert_exporter": "python",
   "pygments_lexer": "ipython2",
   "version": "2.7.8"
  }
 },
 "nbformat": 4,
 "nbformat_minor": 0
}
